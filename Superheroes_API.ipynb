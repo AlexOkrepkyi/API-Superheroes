{
 "cells": [
  {
   "cell_type": "code",
   "execution_count": 1,
   "metadata": {},
   "outputs": [],
   "source": [
    "import requests\n",
    "import operator"
   ]
  },
  {
   "cell_type": "code",
   "execution_count": 2,
   "metadata": {},
   "outputs": [],
   "source": [
    "initial_url = ('https://superheroapi.com/api/2510209442361292/')\n",
    "ids = list(range(1, 733))"
   ]
  },
  {
   "cell_type": "markdown",
   "metadata": {},
   "source": [
    "**STEP. Create a list with all possible urls to be used for the API request**"
   ]
  },
  {
   "cell_type": "code",
   "execution_count": 3,
   "metadata": {},
   "outputs": [],
   "source": [
    "urls = []\n",
    "\n",
    "for id in ids:\n",
    "    urls.append(initial_url + str(id))"
   ]
  },
  {
   "cell_type": "markdown",
   "metadata": {},
   "source": [
    "**STEP. Create a list with all data about all superheroes in JSON format**"
   ]
  },
  {
   "cell_type": "code",
   "execution_count": 4,
   "metadata": {},
   "outputs": [],
   "source": [
    "superheroes = []\n",
    "\n",
    "for url in urls:\n",
    "    try:\n",
    "        response = requests.get(url)\n",
    "        superheroes.append(response.json())\n",
    "    except requests.exceptions.ConnectionError:\n",
    "        print('Seems like dns lookup failed..')\n",
    "        \n",
    "#print(superheroes)"
   ]
  },
  {
   "cell_type": "markdown",
   "metadata": {},
   "source": [
    "**STEP. Create a list with all NAMES of all superheroes**"
   ]
  },
  {
   "cell_type": "code",
   "execution_count": 5,
   "metadata": {},
   "outputs": [],
   "source": [
    "names = []\n",
    "\n",
    "for superhero in superheroes:\n",
    "    names.append(superhero['name'])\n",
    "    \n",
    "#print(names)"
   ]
  },
  {
   "cell_type": "markdown",
   "metadata": {},
   "source": [
    "**STEP. Create a list with all PLACES OF BIRTH of all superheroes**"
   ]
  },
  {
   "cell_type": "code",
   "execution_count": 6,
   "metadata": {},
   "outputs": [],
   "source": [
    "places_of_birth = []\n",
    "\n",
    "for superhero in superheroes:\n",
    "    places_of_birth.append(superhero['biography']['place-of-birth'])\n",
    "    \n",
    "#print(places_of_birth)"
   ]
  },
  {
   "cell_type": "markdown",
   "metadata": {},
   "source": [
    "**STEP. Create a list with all PUBLISHERS of all superheroes**"
   ]
  },
  {
   "cell_type": "code",
   "execution_count": 7,
   "metadata": {},
   "outputs": [],
   "source": [
    "publishers = []\n",
    "\n",
    "for superhero in superheroes:\n",
    "    publishers.append(superhero['biography']['publisher'])\n",
    "    \n",
    "#print(publishers)"
   ]
  },
  {
   "cell_type": "markdown",
   "metadata": {},
   "source": [
    "**STEP. Create a list with all ALIGNMENTS of all superheroes**"
   ]
  },
  {
   "cell_type": "code",
   "execution_count": 8,
   "metadata": {},
   "outputs": [],
   "source": [
    "alignments = []\n",
    "\n",
    "for superhero in superheroes:\n",
    "    alignments.append(superhero['biography']['alignment'])\n",
    "    \n",
    "#print(alignments)"
   ]
  },
  {
   "cell_type": "markdown",
   "metadata": {},
   "source": [
    "**STEP. Create a list with all GENDER of all superheroes**"
   ]
  },
  {
   "cell_type": "code",
   "execution_count": 9,
   "metadata": {},
   "outputs": [],
   "source": [
    "genders =[]\n",
    "\n",
    "for superhero in superheroes:\n",
    "    genders.append(superhero['appearance']['gender'])\n",
    "    \n",
    "#print(genders)"
   ]
  },
  {
   "cell_type": "markdown",
   "metadata": {},
   "source": [
    "**STEP. Create a list with all RACE of all superheroes**"
   ]
  },
  {
   "cell_type": "code",
   "execution_count": 10,
   "metadata": {},
   "outputs": [],
   "source": [
    "races = []\n",
    "\n",
    "for superhero in superheroes:\n",
    "    races.append(superhero['appearance']['race'])\n",
    "    \n",
    "#print(races)"
   ]
  },
  {
   "cell_type": "markdown",
   "metadata": {},
   "source": [
    "**STEP. Create a list with all HEIGHT of all superheroes**"
   ]
  },
  {
   "cell_type": "code",
   "execution_count": 11,
   "metadata": {},
   "outputs": [],
   "source": [
    "heights = []\n",
    "\n",
    "for superhero in superheroes:\n",
    "    heights.append(superhero['appearance']['height'][0])\n",
    "    \n",
    "#print(heights)"
   ]
  },
  {
   "cell_type": "markdown",
   "metadata": {},
   "source": [
    "**STEP. Create a list with all WEIGHT of all superheroes**"
   ]
  },
  {
   "cell_type": "code",
   "execution_count": 12,
   "metadata": {},
   "outputs": [],
   "source": [
    "weights = []\n",
    "\n",
    "for superhero in superheroes:\n",
    "    weights.append(superhero['appearance']['weight'][1])\n",
    "    \n",
    "#print(weights)"
   ]
  },
  {
   "cell_type": "markdown",
   "metadata": {},
   "source": [
    "**STEP. Create a list with all POWERSTATS of all superheroes**"
   ]
  },
  {
   "cell_type": "code",
   "execution_count": 13,
   "metadata": {},
   "outputs": [],
   "source": [
    "powerstats = []\n",
    "\n",
    "for superhero in superheroes:\n",
    "    powerstats.append(superhero['powerstats'])\n",
    "    \n",
    "#print(powerstats)"
   ]
  },
  {
   "cell_type": "markdown",
   "metadata": {},
   "source": [
    "**STEP. Create a list with INTELLIGENCE stats only**"
   ]
  },
  {
   "cell_type": "code",
   "execution_count": 14,
   "metadata": {},
   "outputs": [
    {
     "name": "stdout",
     "output_type": "stream",
     "text": [
      "------------------------------\n",
      "Max stat value is:  100\n",
      "Min stat value is:  0\n",
      "Total number of stats:  732\n",
      "Sum of all stats:  36576\n",
      "------------------------------\n",
      "Characters with MAXimum or unknown intelligence:\n",
      "------------------------------\n"
     ]
    }
   ],
   "source": [
    "intelligence = []\n",
    "intel = []\n",
    "\n",
    "for powerstat in superheroes:\n",
    "    intelligence.append(powerstat['powerstats']['intelligence'])\n",
    "\n",
    "intelligence = [0 if powerstat == 'null' else int(powerstat) for powerstat in intelligence]\n",
    "\n",
    "max_int = max(intelligence)\n",
    "min_int = min(intelligence)\n",
    "len_int = len(intelligence)\n",
    "sum_int = sum(intelligence)\n",
    "\n",
    "max_int_indexes = [index for index, value in enumerate(intelligence) if value == max_int]\n",
    "min_int_indexes = [index for index, value in enumerate(intelligence) if value == min_int]\n",
    "\n",
    "print('---' * 10)\n",
    "\n",
    "print('Max stat value is: ', max_int)\n",
    "print('Min stat value is: ', min_int)\n",
    "print('Total number of stats: ', len_int)\n",
    "print('Sum of all stats: ', sum_int)\n",
    "\n",
    "print('---' * 10)\n",
    "\n",
    "print('Characters with MAXimum or unknown intelligence:')\n",
    "\n",
    "#for index in max_int_indexes:\n",
    "#    print(names[index], 'has', max_int, 'intelligence, is',\n",
    "#          genders[index], 'and of', races[index], 'race',\n",
    "#         heights[index], 'height and weights', weights[index])\n",
    "\n",
    "print('---' * 10)\n",
    "\n",
    "#print('Characters with MINimum or unknown intelligence:')\n",
    "#for index in min_int_indexes:\n",
    "#    print(names[index], 'has', min_int, 'intelligence, is',\n",
    "#          genders[index], 'and of', races[index], 'race',\n",
    "#         heights[index], 'height and weights', weights[index])"
   ]
  },
  {
   "cell_type": "markdown",
   "metadata": {},
   "source": [
    "**STEP. Create a list with STRENGTH stats only**"
   ]
  },
  {
   "cell_type": "code",
   "execution_count": 15,
   "metadata": {},
   "outputs": [
    {
     "name": "stdout",
     "output_type": "stream",
     "text": [
      "------------------------------\n",
      "Max stat value is:  100\n",
      "Min stat value is:  0\n",
      "Total number of stats:  732\n",
      "Sum of all stats:  27762\n",
      "------------------------------\n",
      "Characters with MAXimum or unknown strength:\n",
      "------------------------------\n"
     ]
    }
   ],
   "source": [
    "strength = []\n",
    "\n",
    "for powerstat in superheroes:\n",
    "    strength.append(powerstat['powerstats']['strength'])\n",
    "\n",
    "strength = [0 if powerstat == 'null' else int(powerstat) for powerstat in strength]\n",
    "\n",
    "max_strength = max(strength)\n",
    "min_strength = min(strength)\n",
    "len_strength = len(strength)\n",
    "sum_strength = sum(strength)\n",
    "\n",
    "max_strength_indexes = [index for index, value in enumerate(strength) if value == max_strength]\n",
    "min_strength_indexes = [index for index, value in enumerate(strength) if value == min_strength]\n",
    "\n",
    "print('---' * 10)\n",
    "\n",
    "print('Max stat value is: ', max_strength)\n",
    "print('Min stat value is: ', min_strength)\n",
    "print('Total number of stats: ', len_strength)\n",
    "print('Sum of all stats: ', sum_strength)\n",
    "\n",
    "print('---' * 10)\n",
    "\n",
    "print('Characters with MAXimum or unknown strength:')\n",
    "\n",
    "#for index in max_strength_indexes:\n",
    "#    print(names[index], 'has', max_strength, 'strength, is',\n",
    "#          genders[index], 'and of', races[index], 'race',\n",
    "#         heights[index], 'height and weights', weights[index])\n",
    "\n",
    "print('---' * 10)\n",
    "\n",
    "#print('Characters with MINimum or unknown strength:')\n",
    "#for index in min_strength_indexes:\n",
    "#    print(names[index], 'has', min_strength, 'strength, is',\n",
    "#          genders[index], 'and of', races[index], 'race',\n",
    "#         heights[index], 'height and weights', weights[index])"
   ]
  },
  {
   "cell_type": "markdown",
   "metadata": {},
   "source": [
    "**STEP. Create a list with SPEED stats only**"
   ]
  },
  {
   "cell_type": "code",
   "execution_count": 16,
   "metadata": {},
   "outputs": [
    {
     "name": "stdout",
     "output_type": "stream",
     "text": [
      "------------------------------\n",
      "Max stat value is:  100\n",
      "Min stat value is:  0\n",
      "Total number of stats:  732\n",
      "Sum of all stats:  22839\n",
      "------------------------------\n",
      "Characters with MAXimum or unknown speed:\n",
      "------------------------------\n"
     ]
    }
   ],
   "source": [
    "speed = []\n",
    "\n",
    "for powerstat in superheroes:\n",
    "    speed.append(powerstat['powerstats']['speed'])\n",
    "\n",
    "speed = [0 if powerstat == 'null' else int(powerstat) for powerstat in speed]\n",
    "\n",
    "max_speed = max(speed)\n",
    "min_speed = min(speed)\n",
    "len_speed = len(speed)\n",
    "sum_speed = sum(speed)\n",
    "\n",
    "max_speed_indexes = [index for index, value in enumerate(speed) if value == max_speed]\n",
    "min_speed_indexes = [index for index, value in enumerate(speed) if value == min_speed]\n",
    "\n",
    "print('---' * 10)\n",
    "\n",
    "print('Max stat value is: ', max_speed)\n",
    "print('Min stat value is: ', min_speed)\n",
    "print('Total number of stats: ', len_speed)\n",
    "print('Sum of all stats: ', sum_speed)\n",
    "\n",
    "print('---' * 10)\n",
    "\n",
    "print('Characters with MAXimum or unknown speed:')\n",
    "\n",
    "#for index in max_strength_indexes:\n",
    "#    print(names[index], 'has', max_speed, 'speed, is',\n",
    "#          genders[index], 'and of', races[index], 'race',\n",
    "#         heights[index], 'height and weights', weights[index])\n",
    "\n",
    "print('---' * 10)\n",
    "\n",
    "#print('Characters with MINimum or unknown speed:')\n",
    "#for index in min_speed_indexes:\n",
    "#    print(names[index], 'has', min_speed, 'speed, is',\n",
    "#          genders[index], 'and of', races[index], 'race',\n",
    "#         heights[index], 'height and weights', weights[index])"
   ]
  },
  {
   "cell_type": "markdown",
   "metadata": {},
   "source": [
    "**STEP. Create a list with DURABILITY stats only**"
   ]
  },
  {
   "cell_type": "code",
   "execution_count": 17,
   "metadata": {},
   "outputs": [
    {
     "name": "stdout",
     "output_type": "stream",
     "text": [
      "------------------------------\n",
      "Max stat value is:  110\n",
      "Min stat value is:  0\n",
      "Total number of stats:  732\n",
      "Sum of all stats:  33464\n",
      "------------------------------\n",
      "Characters with MAXimum or unknown durability:\n",
      "------------------------------\n"
     ]
    }
   ],
   "source": [
    "durability = []\n",
    "\n",
    "for powerstat in superheroes:\n",
    "    durability.append(powerstat['powerstats']['durability'])\n",
    "\n",
    "durability = [0 if powerstat == 'null' else int(powerstat) for powerstat in durability]\n",
    "\n",
    "max_durability = max(durability)\n",
    "min_durability = min(durability)\n",
    "len_durability = len(durability)\n",
    "sum_durability = sum(durability)\n",
    "\n",
    "max_durability_indexes = [index for index, value in enumerate(speed) if value == max_durability]\n",
    "min_durability_indexes = [index for index, value in enumerate(speed) if value == min_durability]\n",
    "\n",
    "print('---' * 10)\n",
    "\n",
    "print('Max stat value is: ', max_durability)\n",
    "print('Min stat value is: ', min_durability)\n",
    "print('Total number of stats: ', len_durability)\n",
    "print('Sum of all stats: ', sum_durability)\n",
    "\n",
    "print('---' * 10)\n",
    "\n",
    "print('Characters with MAXimum or unknown durability:')\n",
    "\n",
    "#for index in max_durability_indexes:\n",
    "#    print(names[index], 'has', max_durability, 'durability, is',\n",
    "#          genders[index], 'and of', races[index], 'race',\n",
    "#         heights[index], 'height and weights', weights[index])\n",
    "\n",
    "print('---' * 10)\n",
    "\n",
    "#print('Characters with MINimum or unknown durability:')\n",
    "#for index in min_durability_indexes:\n",
    "#    print(names[index], 'has', min_durability, 'durability, is',\n",
    "#          genders[index], 'and of', races[index], 'race',\n",
    "#         heights[index], 'height and weights', weights[index])"
   ]
  },
  {
   "cell_type": "markdown",
   "metadata": {},
   "source": [
    "**STEP. Create a list with POWER stats only**"
   ]
  },
  {
   "cell_type": "code",
   "execution_count": 18,
   "metadata": {},
   "outputs": [
    {
     "name": "stdout",
     "output_type": "stream",
     "text": [
      "------------------------------\n",
      "Max stat value is:  100\n",
      "Min stat value is:  0\n",
      "Total number of stats:  732\n",
      "Sum of all stats:  36462\n",
      "------------------------------\n",
      "Characters with MAXimum or unknown power:\n",
      "------------------------------\n"
     ]
    }
   ],
   "source": [
    "power = []\n",
    "\n",
    "for powerstat in superheroes:\n",
    "    power.append(powerstat['powerstats']['power'])\n",
    "\n",
    "power = [0 if powerstat == 'null' else int(powerstat) for powerstat in power]\n",
    "\n",
    "max_power = max(power)\n",
    "min_power = min(power)\n",
    "len_power = len(power)\n",
    "sum_power = sum(power)\n",
    "\n",
    "max_power_indexes = [index for index, value in enumerate(speed) if value == max_power]\n",
    "min_power_indexes = [index for index, value in enumerate(speed) if value == min_power]\n",
    "\n",
    "print('---' * 10)\n",
    "\n",
    "print('Max stat value is: ', max_power)\n",
    "print('Min stat value is: ', min_power)\n",
    "print('Total number of stats: ', len_power)\n",
    "print('Sum of all stats: ', sum_power)\n",
    "\n",
    "print('---' * 10)\n",
    "\n",
    "print('Characters with MAXimum or unknown power:')\n",
    "\n",
    "#for index in max_power_indexes:\n",
    "#    print(names[index], 'has', max_power, 'power, is',\n",
    "#          genders[index], 'and of', races[index], 'race',\n",
    "#         heights[index], 'height and weights', weights[index])\n",
    "\n",
    "print('---' * 10)\n",
    "\n",
    "#print('Characters with MINimum or unknown power:')\n",
    "#for index in min_power_indexes:\n",
    "#    print(names[index], 'has', min_power, 'power, is',\n",
    "#          genders[index], 'and of', races[index], 'race',\n",
    "#         heights[index], 'height and weights', weights[index])"
   ]
  },
  {
   "cell_type": "markdown",
   "metadata": {},
   "source": [
    "**STEP. Create a list with COMBAT stats only**"
   ]
  },
  {
   "cell_type": "code",
   "execution_count": 19,
   "metadata": {},
   "outputs": [
    {
     "name": "stdout",
     "output_type": "stream",
     "text": [
      "------------------------------\n",
      "Max stat value is:  101\n",
      "Min stat value is:  0\n",
      "Total number of stats:  732\n",
      "Sum of all stats:  34928\n",
      "------------------------------\n",
      "Characters with MAXimum or unknown combat:\n",
      "------------------------------\n"
     ]
    }
   ],
   "source": [
    "combat = []\n",
    "\n",
    "for powerstat in superheroes:\n",
    "    combat.append(powerstat['powerstats']['combat'])\n",
    "\n",
    "combat = [0 if powerstat == 'null' else int(powerstat) for powerstat in combat]\n",
    "\n",
    "max_combat = max(combat)\n",
    "min_combat = min(combat)\n",
    "len_combat = len(combat)\n",
    "sum_combat = sum(combat)\n",
    "\n",
    "max_combat_indexes = [index for index, value in enumerate(speed) if value == max_combat]\n",
    "min_combat_indexes = [index for index, value in enumerate(speed) if value == min_combat]\n",
    "\n",
    "print('---' * 10)\n",
    "\n",
    "print('Max stat value is: ', max_combat)\n",
    "print('Min stat value is: ', min_combat)\n",
    "print('Total number of stats: ', len_combat)\n",
    "print('Sum of all stats: ', sum_combat)\n",
    "\n",
    "print('---' * 10)\n",
    "\n",
    "print('Characters with MAXimum or unknown combat:')\n",
    "\n",
    "#for index in max_combat_indexes:\n",
    "#    print(names[index], 'has', max_combat, 'combat, is',\n",
    "#          genders[index], 'and of', races[index], 'race',\n",
    "#         heights[index], 'height and weights', weights[index])\n",
    "\n",
    "print('---' * 10)\n",
    "\n",
    "#print('Characters with MINimum or unknown combat:')\n",
    "#for index in min_combat_indexes:\n",
    "#    print(names[index], 'has', min_combat, 'combat, is',\n",
    "#          genders[index], 'and of', races[index], 'race',\n",
    "#         heights[index], 'height and weights', weights[index])"
   ]
  },
  {
   "cell_type": "markdown",
   "metadata": {},
   "source": [
    "**STEP. Sum up all the stats for each superhero and create a list**"
   ]
  },
  {
   "cell_type": "code",
   "execution_count": 21,
   "metadata": {},
   "outputs": [
    {
     "name": "stdout",
     "output_type": "stream",
     "text": [
      "Man of Miracles has total 600 stats\n",
      "One-Above-All has total 600 stats\n"
     ]
    }
   ],
   "source": [
    "sum_stat_list = []\n",
    "\n",
    "for id in ids:\n",
    "    sum_stat = intelligence[id-1] + strength[id-1] + speed[id-1] + durability[id-1] + power[id-1] + combat[id-1]\n",
    "    sum_stat_list.append(sum_stat)\n",
    "    \n",
    "max_sum_stat = max(sum_stat_list)\n",
    "\n",
    "max_stat_indexes = [index for index, value in enumerate(sum_stat_list) if value == max_sum_stat]\n",
    "\n",
    "for index in max_stat_indexes:\n",
    "    print(names[index], 'has total', max_sum_stat, 'stats')"
   ]
  },
  {
   "cell_type": "code",
   "execution_count": null,
   "metadata": {},
   "outputs": [],
   "source": []
  },
  {
   "cell_type": "markdown",
   "metadata": {},
   "source": [
    "**TO DO**:\n",
    "    \n",
    "* Dumps\n",
    "* Machine Learning from available inputs"
   ]
  },
  {
   "cell_type": "code",
   "execution_count": null,
   "metadata": {},
   "outputs": [],
   "source": []
  },
  {
   "cell_type": "code",
   "execution_count": null,
   "metadata": {},
   "outputs": [],
   "source": []
  }
 ],
 "metadata": {
  "kernelspec": {
   "display_name": "Python 3",
   "language": "python",
   "name": "python3"
  },
  "language_info": {
   "codemirror_mode": {
    "name": "ipython",
    "version": 3
   },
   "file_extension": ".py",
   "mimetype": "text/x-python",
   "name": "python",
   "nbconvert_exporter": "python",
   "pygments_lexer": "ipython3",
   "version": "3.6.9"
  }
 },
 "nbformat": 4,
 "nbformat_minor": 4
}
